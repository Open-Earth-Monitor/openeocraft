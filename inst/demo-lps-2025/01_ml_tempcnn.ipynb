{
 "cells": [
  {
   "cell_type": "code",
   "execution_count": null,
   "id": "3843b5af",
   "metadata": {},
   "outputs": [],
   "source": [
    "import openeo # type: ignore\n",
    "from rpy2 import robjects\n",
    "from rpy2.robjects.packages import importr\n",
    "jsonlite = importr('jsonlite')"
   ]
  },
  {
   "cell_type": "code",
   "execution_count": null,
   "id": "71be7901",
   "metadata": {},
   "outputs": [],
   "source": [
    "connection = openeo.connect(\n",
    "    url=\"http://127.0.0.1:8000\",\n",
    "    auth_type=\"basic\",\n",
    "    auth_options={\"username\": \"brian\", \"password\": \"123456\"}\n",
    ")"
   ]
  },
  {
   "cell_type": "code",
   "execution_count": null,
   "id": "e3f3ef90",
   "metadata": {},
   "outputs": [],
   "source": [
    "print(connection.list_collections())"
   ]
  },
  {
   "cell_type": "code",
   "execution_count": null,
   "id": "bdefeff4",
   "metadata": {},
   "outputs": [],
   "source": [
    "print(connection.list_processes())"
   ]
  },
  {
   "cell_type": "code",
   "execution_count": null,
   "id": "3b8e084b",
   "metadata": {},
   "outputs": [],
   "source": [
    "# Load a data cube\n",
    "datacube = connection.load_collection(\n",
    "    collection_id=\"mpc/sentinel-2-l2a\",\n",
    "    spatial_extent={\"west\": -63.9, \"south\": -9.14, \"east\": -62.9, \"north\": -8.14},\n",
    "    temporal_extent=[\"2022-01-01\", \"2022-12-31\"]\n",
    ")"
   ]
  },
  {
   "cell_type": "code",
   "execution_count": null,
   "id": "db29bbdf",
   "metadata": {},
   "outputs": [],
   "source": [
    "datacube = datacube.process(\n",
    "    process_id=\"cube_regularize\",\n",
    "    arguments={\n",
    "        \"data\": datacube,\n",
    "        \"period\": \"P1M\",  # Monthly regularization\n",
    "        \"resolution\": 300\n",
    "    }\n",
    ")"
   ]
  },
  {
   "cell_type": "code",
   "execution_count": null,
   "id": "502d0902",
   "metadata": {},
   "outputs": [],
   "source": [
    "datacube = datacube.ndvi(\n",
    "    red=\"B04\",\n",
    "    ni=\"B08\")"
   ]
  },
  {
   "cell_type": "code",
   "execution_count": null,
   "id": "0f8f9138",
   "metadata": {},
   "outputs": [],
   "source": [
    "# Load the RDS file using rpy2\n",
    "readRDS = robjects.r['readRDS']\n",
    "data_deforestation_rondonia = readRDS(\"./filtered_rondonia_data.rds\")"
   ]
  },
  {
   "cell_type": "code",
   "execution_count": null,
   "id": "9bb8fdc1",
   "metadata": {},
   "outputs": [],
   "source": [
    "data_deforestation_rondonia"
   ]
  },
  {
   "cell_type": "code",
   "execution_count": null,
   "id": "a6fa50b9",
   "metadata": {},
   "outputs": [],
   "source": [
    "# Serialize the data using jsonlite::serializeJSON\n",
    "serializeJSON = robjects.r['serializeJSON']\n",
    "# Use the function\n",
    "serialized_data = serializeJSON(data_deforestation_rondonia)"
   ]
  },
  {
   "cell_type": "code",
   "execution_count": null,
   "id": "823e6ba9",
   "metadata": {},
   "outputs": [],
   "source": [
    "tempcnn_model_init = connection.mlm_class_tempcnn(\n",
    "    optimizer=\"adam\",\n",
    "    learning_rate=0.0005,\n",
    "    seed=42\n",
    ")"
   ]
  },
  {
   "cell_type": "code",
   "execution_count": null,
   "id": "91a5405a",
   "metadata": {},
   "outputs": [],
   "source": [
    "# Fit the model using the training dataset\n",
    "tempcnn_model = tempcnn_model_init.fit(\n",
    "    training_set=str(serialized_data),\n",
    "    target=\"label\"\n",
    ")"
   ]
  },
  {
   "cell_type": "code",
   "execution_count": null,
   "id": "7bfa9f13",
   "metadata": {},
   "outputs": [],
   "source": [
    "datacube =  tempcnn_model.predict(\n",
    "    data=datacube,\n",
    "    target=\"label\",\n",
    ")"
   ]
  },
  {
   "cell_type": "code",
   "execution_count": null,
   "id": "84c003a0",
   "metadata": {},
   "outputs": [],
   "source": [
    "tempcnn_model.save_ml_model(name =\"tempcnn_rondonia\",\n",
    "                            tasks=[\"classification\"]\n",
    "                            #options={}\n",
    "                            )"
   ]
  },
  {
   "cell_type": "code",
   "execution_count": null,
   "id": "d7c4de9a",
   "metadata": {},
   "outputs": [],
   "source": [
    "result = datacube.save_result(\n",
    "    format=\"GTiff\"\n",
    ")"
   ]
  },
  {
   "cell_type": "code",
   "execution_count": null,
   "id": "8ca118fb",
   "metadata": {},
   "outputs": [],
   "source": [
    "job = result.create_job(\n",
    "    title=\"Deforestation Prediction in Rondonia\",\n",
    "    description=\"Using TempCNN model to predict deforestation in Rondonia\"\n",
    ")"
   ]
  },
  {
   "cell_type": "code",
   "execution_count": null,
   "id": "4a07e0f2",
   "metadata": {},
   "outputs": [],
   "source": [
    "job.start_and_wait()\n",
    "job.get_results().download_files(\"output\")"
   ]
  }
 ],
 "metadata": {
  "kernelspec": {
   "display_name": "Python 3",
   "language": "python",
   "name": "python3"
  },
  "language_info": {
   "codemirror_mode": {
    "name": "ipython",
    "version": 3
   },
   "file_extension": ".py",
   "mimetype": "text/x-python",
   "name": "python",
   "nbconvert_exporter": "python",
   "pygments_lexer": "ipython3",
   "version": "3.9.6"
  }
 },
 "nbformat": 4,
 "nbformat_minor": 5
}
