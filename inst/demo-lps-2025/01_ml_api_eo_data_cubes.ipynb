{
 "cells": [
  {
   "cell_type": "markdown",
   "id": "47e935d5",
   "metadata": {},
   "source": [
    "# ML API Specification for EO Data Cubes\n",
    "### Brian Pondi and Rolf Simoes\n",
    "\n",
    "This notebook demonstrates the ML API processes for the openEO ecosystem, structured to address four pillars: initialization of model architectures, execution of training/prediction tasks, and management of model artifacts. By decoupling ML logic from backend implementations, the API enables portable workflows that are reusable across infrastructures.\n",
    "\n",
    "![ML API Architecture](./eo-ml.png)\n",
    "\n",
    "## Design Principles\n",
    "\n",
    "The core principles that guided the API development include:\n",
    "\n",
    "- **Modularity**\n",
    "- **Consistency**\n",
    "- **Backend-Agnosticism** \n",
    "- **Default Parameters**\n",
    "- **Extensible**\n",
    "\n",
    "## Model Initialization\n",
    "\n",
    "The model initialization phase, facilitated by processes prefixed with `mlm_`, is designed to create untrained model definition objects. Each process name follows the pattern:\n",
    "\n",
    "```\n",
    "mlm_<type>_<model>\n",
    "```\n",
    "\n",
    "where `<type>` is an abbreviated ML action category (e.g., `class` for classification, `regr` for regression, `segm` for segmentation, `gen` for generative, etc.) and `<model>` specifies the particular algorithm (e.g., `random_forest`, `svm`, `xgboost`, `tempcnn`, `tae`, etc.).\n",
    "\n",
    "| Process Name              | Description                                                               |\n",
    "| ------------------------- | ------------------------------------------------------------------------- |\n",
    "| `mlm_class_catboost`      | Initializes a CatBoost classification model                               |\n",
    "| `mlm_class_mlp`           | Initializes a Multi-Layer Perceptron (MLP) classification model           |\n",
    "| `mlm_class_random_forest` | Initializes a Random Forest classification model                          |\n",
    "| `mlm_class_svm`           | Initializes a Support Vector Machine (SVM) classification model           |\n",
    "| `mlm_class_xgboost`       | Initializes an XGBoost classification model                               |\n",
    "| `mlm_class_tempcnn`       | Initializes a Temporal Convolutional Neural Network (TempCNN) model       |\n",
    "| `mlm_class_tae`           | Initializes a Temporal Attention Encoder (TAE) model                      |\n",
    "| `mlm_class_lighttae`      | Initializes a lightweight version of the Temporal Attention Encoder model |\n",
    "| `mlm_regr_svm`            | Initializes a Support Vector Machine regression model                     |\n",
    "| `mlm_regr_random_forest`  | Initializes a Random Forest regression model                              |\n",
    "\n",
    "## Model Actions\n",
    "\n",
    "Prefixed with `ml_`, model action processes are responsible for executing key ML workflows on model artifacts and EO data cubes. These actions include model training, prediction, uncertainty estimation, and post-processing.\n",
    "\n",
    "| Process Name               | Description                                                                                |\n",
    "| -------------------------- | ------------------------------------------------------------------------------------------ |\n",
    "| `ml_fit`                   | Fits a machine learning model to a data cube of input features and target values           |\n",
    "| `ml_predict`               | Applies a trained machine learning model to a data cube of input features                  |\n",
    "| `ml_predict_probabilities` | Applies a model to input features and returns predicted class probabilities                |\n",
    "| `ml_uncertainty_class`     | Estimates classification uncertainty using methods like margin, ratio, or least-confidence |\n",
    "| `ml_smooth_class`          | Applies spatial smoothing to classification probability results using Bayesian inference   |\n",
    "| `ml_label_class`           | Converts a probability data cube to a labeled data cube                                    |\n",
    "\n",
    "## Model Management\n",
    "\n",
    "Model management processes handle the storage and retrieval of ML artifacts. They enable users to export and import preliminary or private models into their workspace and to export and import models using STAC ML Model extension compliance.\n",
    "\n",
    "| Process Name      | Description                                                                              |\n",
    "| ----------------- | ---------------------------------------------------------------------------------------- |\n",
    "| `import_ml_model` | Imports a previously exported machine learning model from a specified workspace location |\n",
    "| `export_ml_model` | Exports a machine learning model to a specified workspace location                       |\n",
    "| `load_ml_model`   | Loads a machine learning model from a STAC:MLM Item into the current session             |\n",
    "| `save_ml_model`   | Saves a machine learning model with STAC MLM Extension compliance                        |\n",
    "\n",
    "# Temporal CNN Example\n",
    "\n",
    "This section demonstrates how to train a Temporal CNN (TempCNN) model using OpenEO processes. The example uses deforestation data from Rondonia to train a deep learning model for time series classification."
   ]
  },
  {
   "cell_type": "markdown",
   "id": "52330350",
   "metadata": {},
   "source": [
    "## Setup and Connection\n",
    "\n",
    "First, we load the required libraries and connect to the OpenEO backend."
   ]
  },
  {
   "cell_type": "code",
   "execution_count": 33,
   "id": "3843b5af",
   "metadata": {},
   "outputs": [],
   "source": [
    "import openeo # type: ignore\n",
    "from rpy2 import robjects\n",
    "from rpy2.robjects.packages import importr\n",
    "jsonlite = importr('jsonlite')"
   ]
  },
  {
   "cell_type": "code",
   "execution_count": 34,
   "id": "71be7901",
   "metadata": {},
   "outputs": [],
   "source": [
    "connection = openeo.connect(\n",
    "    url=\"http://127.0.0.1:8000\",\n",
    "    auth_type=\"basic\",\n",
    "    auth_options={\"username\": \"brian\", \"password\": \"123456\"}\n",
    ")"
   ]
  },
  {
   "cell_type": "code",
   "execution_count": null,
   "id": "b02a117a",
   "metadata": {},
   "outputs": [],
   "source": [
    "print(connection.list_collections())"
   ]
  },
  {
   "cell_type": "code",
   "execution_count": null,
   "id": "5fb3d8b7",
   "metadata": {},
   "outputs": [],
   "source": [
    "print(connection.list_collection_ids())"
   ]
  },
  {
   "cell_type": "markdown",
   "id": "fcfe823c",
   "metadata": {},
   "source": [
    "## Explore Available Processes\n",
    "\n",
    "Let's examine the available processes on the backend, particularly focusing on ML-related ones.\n"
   ]
  },
  {
   "cell_type": "code",
   "execution_count": null,
   "id": "bdefeff4",
   "metadata": {},
   "outputs": [],
   "source": [
    "process_ids = [process[\"id\"] for process in connection.list_processes()]\n",
    "print(\"Available processes on this backend:\")\n",
    "for process_id in process_ids:\n",
    "    print(f\"- {process_id}\")"
   ]
  },
  {
   "cell_type": "markdown",
   "id": "96808d5a",
   "metadata": {},
   "source": [
    "## Examine ML Process Details\n",
    "\n",
    "Let's look at the details of some ML processes to understand their parameters and requirements.\n"
   ]
  },
  {
   "cell_type": "code",
   "execution_count": null,
   "id": "f9a9acb5",
   "metadata": {},
   "outputs": [],
   "source": [
    "connection.describe_process(\"mlm_class_random_forest\")"
   ]
  },
  {
   "cell_type": "code",
   "execution_count": null,
   "id": "9e1c9a33",
   "metadata": {},
   "outputs": [],
   "source": [
    "connection.describe_process(\"mlm_class_tempcnn\")"
   ]
  },
  {
   "cell_type": "markdown",
   "id": "56ad5697",
   "metadata": {},
   "source": [
    "## Load and Prepare Data\n",
    "\n",
    "We'll load Sentinel-2 data and prepare it for our analysis."
   ]
  },
  {
   "cell_type": "code",
   "execution_count": null,
   "id": "3b8e084b",
   "metadata": {},
   "outputs": [],
   "source": [
    "# Load a data cube\n",
    "datacube = connection.load_collection(\n",
    "    collection_id=\"mpc-sentinel-2-l2a\",\n",
    "    spatial_extent={\"west\": -63.9, \"south\": -9.14, \"east\": -62.9, \"north\": -8.14},\n",
    "    temporal_extent=[\"2022-01-01\", \"2022-12-31\"]\n",
    ")"
   ]
  },
  {
   "cell_type": "code",
   "execution_count": null,
   "id": "db29bbdf",
   "metadata": {},
   "outputs": [],
   "source": [
    "datacube = datacube.process(\n",
    "    process_id=\"cube_regularize\",\n",
    "    arguments={\n",
    "        \"data\": datacube,\n",
    "        \"period\": \"P1M\",  # Monthly regularization\n",
    "        \"resolution\": 320\n",
    "    }\n",
    ")"
   ]
  },
  {
   "cell_type": "markdown",
   "id": "2f764640",
   "metadata": {},
   "source": [
    "## Load Training Data\n",
    "\n",
    "We'll load the pre-processed training data for deforestation in Rondonia.\n"
   ]
  },
  {
   "cell_type": "code",
   "execution_count": null,
   "id": "0f8f9138",
   "metadata": {},
   "outputs": [],
   "source": [
    "# Load the RDS file using rpy2\n",
    "readRDS = robjects.r['readRDS']\n",
    "data_deforestation_rondonia = readRDS(\"./monthly_rondonia_data.rds\")"
   ]
  },
  {
   "cell_type": "code",
   "execution_count": null,
   "id": "9bb8fdc1",
   "metadata": {},
   "outputs": [],
   "source": [
    "data_deforestation_rondonia"
   ]
  },
  {
   "cell_type": "code",
   "execution_count": null,
   "id": "a6fa50b9",
   "metadata": {},
   "outputs": [],
   "source": [
    "# Serialize the data using jsonlite::serializeJSON\n",
    "serializeJSON = robjects.r['serializeJSON']\n",
    "# Use the function\n",
    "serialized_data = serializeJSON(data_deforestation_rondonia)"
   ]
  },
  {
   "cell_type": "code",
   "execution_count": null,
   "id": "cc555722",
   "metadata": {},
   "outputs": [],
   "source": [
    "serialized_data"
   ]
  },
  {
   "cell_type": "markdown",
   "id": "c9c536f6",
   "metadata": {},
   "source": [
    "## Initialize and Train the Model\n",
    "\n",
    "Now we'll initialize the Temporal CNN model and train it with our data."
   ]
  },
  {
   "cell_type": "code",
   "execution_count": null,
   "id": "823e6ba9",
   "metadata": {},
   "outputs": [],
   "source": [
    "tempcnn_model_init = connection.mlm_class_tempcnn(\n",
    "    optimizer=\"adam\",\n",
    "    learning_rate=0.0005,\n",
    "    seed=42\n",
    ")"
   ]
  },
  {
   "cell_type": "code",
   "execution_count": null,
   "id": "91a5405a",
   "metadata": {},
   "outputs": [],
   "source": [
    "# Fit the model using the training dataset\n",
    "tempcnn_model = tempcnn_model_init.fit(\n",
    "    training_set=serialized_data,\n",
    "    target=\"label\"\n",
    ")"
   ]
  },
  {
   "cell_type": "markdown",
   "id": "58a86897",
   "metadata": {},
   "source": [
    "## Make Predictions\n",
    "\n",
    "Apply the trained model to make predictions on new data.\n"
   ]
  },
  {
   "cell_type": "code",
   "execution_count": null,
   "id": "7bfa9f13",
   "metadata": {},
   "outputs": [],
   "source": [
    "datacube =  tempcnn_model.predict(\n",
    "    data=datacube,\n",
    "    model=tempcnn_model\n",
    ")"
   ]
  },
  {
   "cell_type": "markdown",
   "id": "cebaa30c",
   "metadata": {},
   "source": [
    "## Save the Model\n",
    "\n",
    "Save the trained model for future use."
   ]
  },
  {
   "cell_type": "code",
   "execution_count": null,
   "id": "84c003a0",
   "metadata": {},
   "outputs": [],
   "source": [
    "tempcnn_model.save_ml_model(name =\"tempcnn_rondonia\",\n",
    "                            tasks=[\"classification\"]\n",
    "                            #options={}\n",
    "                            )"
   ]
  },
  {
   "cell_type": "markdown",
   "id": "d15b2d3c",
   "metadata": {},
   "source": [
    "## Save and Execute Results\n",
    "\n",
    "Finally, we'll save the prediction results and execute the job.\n"
   ]
  },
  {
   "cell_type": "code",
   "execution_count": null,
   "id": "d7c4de9a",
   "metadata": {},
   "outputs": [],
   "source": [
    "result = datacube.save_result(\n",
    "    format=\"GTiff\"\n",
    ")"
   ]
  },
  {
   "cell_type": "code",
   "execution_count": null,
   "id": "8ca118fb",
   "metadata": {},
   "outputs": [],
   "source": [
    "job = result.create_job(\n",
    "    title=\"Deforestation Prediction in Rondonia\",\n",
    "    description=\"Using TempCNN model to predict deforestation in Rondonia\"\n",
    ")\n",
    "job"
   ]
  },
  {
   "cell_type": "code",
   "execution_count": null,
   "id": "4a07e0f2",
   "metadata": {},
   "outputs": [],
   "source": [
    "job.start_and_wait()\n",
    "job.get_results().download_files(\"output\")"
   ]
  },
  {
   "cell_type": "markdown",
   "id": "4cb101ba",
   "metadata": {},
   "source": [
    "## Conclusion\n",
    "\n",
    "This example demonstrated how to:\n",
    "1. Connect to an OpenEO backend\n",
    "2. Load and prepare training data\n",
    "3. Define a Temporal CNN model architecture\n",
    "4. Train the model\n",
    "5. Make predictions on new data\n",
    "6. Save the results\n",
    "\n",
    "The trained model can now be used for making predictions on new time series data. "
   ]
  }
 ],
 "metadata": {
  "kernelspec": {
   "display_name": "Python 3",
   "language": "python",
   "name": "python3"
  },
  "language_info": {
   "codemirror_mode": {
    "name": "ipython",
    "version": 3
   },
   "file_extension": ".py",
   "mimetype": "text/x-python",
   "name": "python",
   "nbconvert_exporter": "python",
   "pygments_lexer": "ipython3",
   "version": "3.9.6"
  }
 },
 "nbformat": 4,
 "nbformat_minor": 5
}
