{
 "cells": [
  {
   "cell_type": "markdown",
   "id": "47e935d5",
   "metadata": {},
   "source": [
    "# ML API Specification for EO Data Cubes\n",
    "### Brian Pondi and Rolf Simoes\n",
    "\n",
    "This notebook demonstrates the ML API processes for the openEO ecosystem, structured to address four pillars: initialization of model architectures, execution of training/prediction tasks, and management of model artifacts. By decoupling ML logic from backend implementations, the API enables portable workflows that are reusable across infrastructures.\n",
    "\n",
    "![ML API Architecture](./eo-ml.png)\n",
    "\n",
    "## Design Principles\n",
    "\n",
    "The core principles that guided the API development include:\n",
    "\n",
    "- **Modularity**\n",
    "- **Consistency**\n",
    "- **Backend-Agnosticism** \n",
    "- **Default Parameters**\n",
    "- **Extensible**\n",
    "\n",
    "## Model Initialization\n",
    "\n",
    "The model initialization phase, facilitated by processes prefixed with `mlm_`, is designed to create untrained model definition objects. Each process name follows the pattern:\n",
    "\n",
    "```\n",
    "mlm_<type>_<model>\n",
    "```\n",
    "\n",
    "where `<type>` is an abbreviated ML action category (e.g., `class` for classification, `regr` for regression, `segm` for segmentation, `gen` for generative, etc.) and `<model>` specifies the particular algorithm (e.g., `random_forest`, `svm`, `xgboost`, `tempcnn`, `tae`, etc.).\n",
    "\n",
    "| Process Name              | Description                                                               |\n",
    "| ------------------------- | ------------------------------------------------------------------------- |\n",
    "| `mlm_class_catboost`      | Initializes a CatBoost classification model                               |\n",
    "| `mlm_class_mlp`           | Initializes a Multi-Layer Perceptron (MLP) classification model           |\n",
    "| `mlm_class_random_forest` | Initializes a Random Forest classification model                          |\n",
    "| `mlm_class_svm`           | Initializes a Support Vector Machine (SVM) classification model           |\n",
    "| `mlm_class_xgboost`       | Initializes an XGBoost classification model                               |\n",
    "| `mlm_class_tempcnn`       | Initializes a Temporal Convolutional Neural Network (TempCNN) model       |\n",
    "| `mlm_class_tae`           | Initializes a Temporal Attention Encoder (TAE) model                      |\n",
    "| `mlm_class_lighttae`      | Initializes a lightweight version of the Temporal Attention Encoder model |\n",
    "| `mlm_regr_svm`            | Initializes a Support Vector Machine regression model                     |\n",
    "| `mlm_regr_random_forest`  | Initializes a Random Forest regression model                              |\n",
    "\n",
    "## Model Actions\n",
    "\n",
    "Prefixed with `ml_`, model action processes are responsible for executing key ML workflows on model artifacts and EO data cubes. These actions include model training, prediction, uncertainty estimation, and post-processing.\n",
    "\n",
    "| Process Name               | Description                                                                                |\n",
    "| -------------------------- | ------------------------------------------------------------------------------------------ |\n",
    "| `ml_fit`                   | Fits a machine learning model to a data cube of input features and target values           |\n",
    "| `ml_predict`               | Applies a trained machine learning model to a data cube of input features                  |\n",
    "| `ml_predict_probabilities` | Applies a model to input features and returns predicted class probabilities                |\n",
    "| `ml_uncertainty_class`     | Estimates classification uncertainty using methods like margin, ratio, or least-confidence |\n",
    "| `ml_smooth_class`          | Applies spatial smoothing to classification probability results using Bayesian inference   |\n",
    "| `ml_label_class`           | Converts a probability data cube to a labeled data cube                                    |\n",
    "\n",
    "## Model Management\n",
    "\n",
    "Model management processes handle the storage and retrieval of ML artifacts. They enable users to export and import preliminary or private models into their workspace and to export and import models using STAC ML Model extension compliance.\n",
    "\n",
    "| Process Name      | Description                                                                              |\n",
    "| ----------------- | ---------------------------------------------------------------------------------------- |\n",
    "| `import_ml_model` | Imports a previously exported machine learning model from a specified workspace location |\n",
    "| `export_ml_model` | Exports a machine learning model to a specified workspace location                       |\n",
    "| `load_ml_model`   | Loads a machine learning model from a STAC:MLM Item into the current session             |\n",
    "| `save_ml_model`   | Saves a machine learning model with STAC MLM Extension compliance                        |\n",
    "\n",
    "# Temporal CNN Example\n",
    "\n",
    "This section demonstrates how to train a Temporal CNN (TempCNN) model using OpenEO processes. The example uses deforestation data from Rondonia to train a deep learning model for time series classification."
   ]
  },
  {
   "cell_type": "markdown",
   "id": "52330350",
   "metadata": {},
   "source": [
    "## Setup and Connection\n",
    "\n",
    "First, we load the required libraries and connect to the OpenEO backend."
   ]
  },
  {
   "cell_type": "code",
   "execution_count": 1,
   "id": "3843b5af",
   "metadata": {},
   "outputs": [
    {
     "name": "stderr",
     "output_type": "stream",
     "text": [
      "/Users/brianpondi/Library/Python/3.9/lib/python/site-packages/urllib3/__init__.py:35: NotOpenSSLWarning: urllib3 v2 only supports OpenSSL 1.1.1+, currently the 'ssl' module is compiled with 'LibreSSL 2.8.3'. See: https://github.com/urllib3/urllib3/issues/3020\n",
      "  warnings.warn(\n",
      "Error importing in API mode: ImportError(\"dlopen(/Users/brianpondi/Library/Python/3.9/lib/python/site-packages/_rinterface_cffi_api.abi3.so, 0x0002): Library not loaded: /Library/Frameworks/R.framework/Versions/4.5-arm64/Resources/lib/libRblas.dylib\\n  Referenced from: <EF10DC06-064E-3614-96B8-350E8279C9FD> /Users/brianpondi/Library/Python/3.9/lib/python/site-packages/_rinterface_cffi_api.abi3.so\\n  Reason: tried: '/Library/Frameworks/R.framework/Versions/4.5-arm64/Resources/lib/libRblas.dylib' (no such file), '/System/Volumes/Preboot/Cryptexes/OS/Library/Frameworks/R.framework/Versions/4.5-arm64/Resources/lib/libRblas.dylib' (no such file), '/Library/Frameworks/R.framework/Versions/4.5-arm64/Resources/lib/libRblas.dylib' (no such file)\")\n",
      "Trying to import in ABI mode.\n",
      "/Users/brianpondi/Library/Python/3.9/lib/python/site-packages/rpy2/rinterface/__init__.py:1185: UserWarning: Environment variable \"PWD\" redefined by R and overriding existing variable. Current: \"/\", R: \"/Users/brianpondi/ml-dev/openeocraft/inst/demo-lps-2025\"\n",
      "  warnings.warn(\n",
      "/Users/brianpondi/Library/Python/3.9/lib/python/site-packages/rpy2/rinterface/__init__.py:1185: UserWarning: Environment variable \"XPC_SERVICE_NAME\" redefined by R and overriding existing variable. Current: \"application.com.todesktop.230313mzl4w4u92.75937419.75937425\", R: \"0\"\n",
      "  warnings.warn(\n",
      "/Users/brianpondi/Library/Python/3.9/lib/python/site-packages/rpy2/rinterface/__init__.py:1185: UserWarning: Environment variable \"R_SESSION_TMPDIR\" redefined by R and overriding existing variable. Current: \"/var/folders/vw/l0gcr06n1c5_fhfxn976lshh0000gn/T//RtmpEeQ8Yw\", R: \"/var/folders/vw/l0gcr06n1c5_fhfxn976lshh0000gn/T//Rtmp8jlBe1\"\n",
      "  warnings.warn(\n"
     ]
    }
   ],
   "source": [
    "import openeo # type: ignore\n",
    "from rpy2 import robjects\n",
    "from rpy2.robjects.packages import importr\n",
    "jsonlite = importr('jsonlite')"
   ]
  },
  {
   "cell_type": "code",
   "execution_count": 2,
   "id": "71be7901",
   "metadata": {},
   "outputs": [],
   "source": [
    "connection = openeo.connect(\n",
    "    url=\"http://127.0.0.1:8000\",\n",
    "    auth_type=\"basic\",\n",
    "    auth_options={\"username\": \"brian\", \"password\": \"123456\"}\n",
    ")"
   ]
  },
  {
   "cell_type": "code",
   "execution_count": 3,
   "id": "b02a117a",
   "metadata": {},
   "outputs": [
    {
     "name": "stdout",
     "output_type": "stream",
     "text": [
      "[{'type': 'Collection', 'stac_version': '1.0.0', 'id': 'mpc-landsat-c2-l2', 'title': 'Landsat Collection 2 Level-2', 'description': 'Landsat Collection 2 Level-2 [Science Products](https://www.usgs.gov/landsat-missions/landsat-collection-2-level-2-science-products), consisting of atmospherically corrected [surface reflectance](https://www.usgs.gov/landsat-missions/landsat-collection-2-surface-reflectance) and [surface temperature](https://www.usgs.gov/landsat-missions/landsat-collection-2-surface-temperature) image data. Collection 2 Level-2 Science Products are available from August 22, 1982 to present.\\n\\nThis dataset represents the global archive of Level-2 data from [Landsat Collection 2](https://www.usgs.gov/core-science-systems/nli/landsat/landsat-collection-2) acquired by the [Thematic Mapper](https://landsat.gsfc.nasa.gov/thematic-mapper/) onboard Landsat 4 and 5, the [Enhanced Thematic Mapper](https://landsat.gsfc.nasa.gov/the-enhanced-thematic-mapper-plus-etm/) onboard Landsat 7, and the [Operatational Land Imager](https://landsat.gsfc.nasa.gov/satellites/landsat-8/spacecraft-instruments/operational-land-imager/) and [Thermal Infrared Sensor](https://landsat.gsfc.nasa.gov/satellites/landsat-8/spacecraft-instruments/thermal-infrared-sensor/) onboard Landsat 8 and 9. Images are stored in [cloud-optimized GeoTIFF](https://www.cogeo.org/) format.\\n', 'license': 'proprietary', 'providers': [{'url': 'https://landsat.gsfc.nasa.gov/', 'name': 'NASA', 'roles': ['producer', 'licensor']}, {'url': 'https://www.usgs.gov/landsat-missions/landsat-collection-2-level-2-science-products', 'name': 'USGS', 'roles': ['producer', 'processor', 'licensor']}, {'url': 'https://planetarycomputer.microsoft.com', 'name': 'Microsoft', 'roles': ['host']}], 'extent': {'spatial': {'bbox': [[-180, -90, 180, 90]]}, 'temporal': {'interval': [['1982-08-22T00:00:00Z', {}]]}}, 'links': [{'rel': 'root', 'href': 'http://127.0.0.1:8000/', 'type': 'application/json'}, {'rel': 'self', 'href': 'http://127.0.0.1:8000/collections/mpc-landsat-c2-l2', 'type': 'application/json'}, {'rel': 'parent', 'href': 'http://127.0.0.1:8000/', 'title': 'Root', 'type': 'application/json'}, {'rel': 'items', 'href': 'http://127.0.0.1:8000/collections/mpc-landsat-c2-l2/items', 'title': 'Items', 'type': 'application/geo+json'}], 'cube:dimensions': {'x': {'type': 'spatial', 'axis': 'x', 'extent': [-180, 180], 'reference_system': 42001}, 'y': {'type': 'spatial', 'axis': 'y', 'extent': [-90, 90], 'reference_system': 42001}, 't': {'type': 'temporal', 'axis': 't', 'extent': ['1982-08-22T00:00:00Z', {}]}, 'bands': {'type': 'bands', 'values': ['blue', 'green', 'red', 'nir08', 'swir16', 'swir22', 'cloud']}}}, {'type': 'Collection', 'stac_version': '1.0.0', 'id': 'mpc-sentinel-2-l2a', 'title': 'Sentinel-2 Level-2A', 'description': 'The [Sentinel-2](https://sentinel.esa.int/web/sentinel/missions/sentinel-2) program provides global imagery in thirteen spectral bands at 10m-60m resolution and a revisit time of approximately five days.  This dataset represents the global Sentinel-2 archive, from 2016 to the present, processed to L2A (bottom-of-atmosphere) using [Sen2Cor](https://step.esa.int/main/snap-supported-plugins/sen2cor/) and converted to [cloud-optimized GeoTIFF](https://www.cogeo.org/) format.', 'license': 'proprietary', 'providers': [{'url': 'https://sentinel.esa.int/web/sentinel/missions/sentinel-2', 'name': 'ESA', 'roles': ['producer', 'licensor']}, {'url': 'https://www.esri.com/', 'name': 'Esri', 'roles': ['processor']}, {'url': 'https://planetarycomputer.microsoft.com', 'name': 'Microsoft', 'roles': ['host', 'processor']}], 'extent': {'spatial': {'bbox': [[-180, -90, 180, 90]]}, 'temporal': {'interval': [['2015-06-27T10:25:31Z', {}]]}}, 'links': [{'rel': 'root', 'href': 'http://127.0.0.1:8000/', 'type': 'application/json'}, {'rel': 'self', 'href': 'http://127.0.0.1:8000/collections/mpc-sentinel-2-l2a', 'type': 'application/json'}, {'rel': 'parent', 'href': 'http://127.0.0.1:8000/', 'title': 'Root', 'type': 'application/json'}, {'rel': 'items', 'href': 'http://127.0.0.1:8000/collections/mpc-sentinel-2-l2a/items', 'title': 'Items', 'type': 'application/geo+json'}], 'cube:dimensions': {'x': {'type': 'spatial', 'axis': 'x', 'extent': [-180, 180], 'reference_system': 42001}, 'y': {'type': 'spatial', 'axis': 'y', 'extent': [-90, 90], 'reference_system': 42001}, 't': {'type': 'temporal', 'axis': 't', 'extent': ['2015-06-27T10:25:31Z', {}]}, 'bands': {'type': 'bands', 'values': ['b01', 'b02', 'b03', 'b04', 'b05', 'b06', 'b07', 'b08', 'b8a', 'b09', 'b11', 'b12', 'cloud']}}}, {'type': 'Collection', 'stac_version': '1.0.0', 'id': 'mpc-sentinel-1-grd', 'title': 'Sentinel 1 Level-1 Ground Range Detected (GRD)', 'description': 'The [Sentinel-1](https://sentinel.esa.int/web/sentinel/missions/sentinel-1) mission is a constellation of two polar-orbiting satellites, operating day and night performing C-band synthetic aperture radar imaging. The Level-1 Ground Range Detected (GRD) products in this Collection consist of focused SAR data that has been detected, multi-looked and projected to ground range using the Earth ellipsoid model WGS84. The ellipsoid projection of the GRD products is corrected using the terrain height specified in the product general annotation. The terrain height used varies in azimuth but is constant in range (but can be different for each IW/EW sub-swath).\\n\\nGround range coordinates are the slant range coordinates projected onto the ellipsoid of the Earth. Pixel values represent detected amplitude. Phase information is lost. The resulting product has approximately square resolution pixels and square pixel spacing with reduced speckle at a cost of reduced spatial resolution.\\n\\nFor the IW and EW GRD products, multi-looking is performed on each burst individually. All bursts in all sub-swaths are then seamlessly merged to form a single, contiguous, ground range, detected image per polarization.\\n\\nFor more information see the [ESA documentation](https://sentinel.esa.int/web/sentinel/user-guides/sentinel-1-sar/product-types-processing-levels/level-1)\\n\\n### Terrain Correction\\n\\nUsers might want to geometrically or radiometrically terrain correct the Sentinel-1 GRD data from this collection. The [Sentinel-1-RTC Collection](https://planetarycomputer.microsoft.com/dataset/sentinel-1-rtc) collection is a global radiometrically terrain corrected dataset derived from Sentinel-1 GRD. Additionally, users can terrain-correct on the fly using [any DEM available on the Planetary Computer](https://planetarycomputer.microsoft.com/catalog?tags=DEM). See [Customizable radiometric terrain correction](https://planetarycomputer.microsoft.com/docs/tutorials/customizable-rtc-sentinel1/) for more.', 'license': 'proprietary', 'providers': [{'url': 'https://earth.esa.int/web/guest/home', 'name': 'ESA', 'roles': ['producer', 'processor', 'licensor']}, {'url': 'https://planetarycomputer.microsoft.com', 'name': 'Microsoft', 'roles': ['host']}], 'extent': {'spatial': {'bbox': [[-180, -90, 180, 90]]}, 'temporal': {'interval': [['2014-10-10T00:28:21Z', {}]]}}, 'links': [{'rel': 'root', 'href': 'http://127.0.0.1:8000/', 'type': 'application/json'}, {'rel': 'self', 'href': 'http://127.0.0.1:8000/collections/mpc-sentinel-1-grd', 'type': 'application/json'}, {'rel': 'parent', 'href': 'http://127.0.0.1:8000/', 'title': 'Root', 'type': 'application/json'}, {'rel': 'items', 'href': 'http://127.0.0.1:8000/collections/mpc-sentinel-1-grd/items', 'title': 'Items', 'type': 'application/geo+json'}], 'cube:dimensions': {'x': {'type': 'spatial', 'axis': 'x', 'extent': [-180, 180], 'reference_system': 42001}, 'y': {'type': 'spatial', 'axis': 'y', 'extent': [-90, 90], 'reference_system': 42001}, 't': {'type': 'temporal', 'axis': 't', 'extent': ['2014-10-10T00:28:21Z', {}]}, 'bands': {'type': 'bands', 'values': ['vv', 'vh']}}}, {'type': 'Collection', 'stac_version': '1.0.0', 'id': 'mpc-sentinel-1-rtc', 'title': 'Sentinel 1 Radiometrically Terrain Corrected (RTC)', 'description': \"The [Sentinel-1](https://sentinel.esa.int/web/sentinel/missions/sentinel-1) mission is a constellation of two polar-orbiting satellites, operating day and night performing C-band synthetic aperture radar imaging. The Sentinel-1 Radiometrically Terrain Corrected (RTC) data in this collection is a radiometrically terrain corrected product derived from the [Ground Range Detected (GRD) Level-1](https://planetarycomputer.microsoft.com/dataset/sentinel-1-grd) products produced by the European Space Agency. The RTC processing is performed by [Catalyst](https://catalyst.earth/).\\n\\nRadiometric Terrain Correction accounts for terrain variations that affect both the position of a given point on the Earth's surface and the brightness of the radar return, as expressed in radar geometry. Without treatment, the hill-slope modulations of the radiometry threaten to overwhelm weaker thematic land cover-induced backscatter differences. Additionally, comparison of backscatter from multiple satellites, modes, or tracks loses meaning.\\n\\nA Planetary Computer account is required to retrieve SAS tokens to read the RTC data. See the [documentation](http://planetarycomputer.microsoft.com/docs/concepts/sas/#when-an-account-is-needed) for more information.\\n\\n### Methodology\\n\\nThe Sentinel-1 GRD product is converted to calibrated intensity using the conversion algorithm described in the ESA technical note ESA-EOPG-CSCOP-TN-0002, [Radiometric Calibration of S-1 Level-1 Products Generated by the S-1 IPF](https://ai4edatasetspublicassets.blob.core.windows.net/assets/pdfs/sentinel-1/S1-Radiometric-Calibration-V1.0.pdf). The flat earth calibration values for gamma correction (i.e. perpendicular to the radar line of sight) are extracted from the GRD metadata. The calibration coefficients are applied as a two-dimensional correction in range (by sample number) and azimuth (by time). All available polarizations are calibrated and written as separate layers of a single file. The calibrated SAR output is reprojected to nominal map orientation with north at the top and west to the left.\\n\\nThe data is then radiometrically terrain corrected using PlanetDEM as the elevation source. The correction algorithm is nominally based upon D. Small, [“Flattening Gamma: Radiometric Terrain Correction for SAR Imagery”](https://ai4edatasetspublicassets.blob.core.windows.net/assets/pdfs/sentinel-1/2011_Flattening_Gamma.pdf), IEEE Transactions on Geoscience and Remote Sensing, Vol 49, No 8., August 2011, pp 3081-3093. For each image scan line, the digital elevation model is interpolated to determine the elevation corresponding to the position associated with the known near slant range distance and arc length for each input pixel. The elevations at the four corners of each pixel are estimated using bilinear resampling. The four elevations are divided into two triangular facets and reprojected onto the plane perpendicular to the radar line of sight to provide an estimate of the area illuminated by the radar for each earth flattened pixel. The uncalibrated sum at each earth flattened pixel is normalized by dividing by the flat earth surface area. The adjustment for gamma intensity is given by dividing the normalized result by the cosine of the incident angle. Pixels which are not illuminated by the radar due to the viewing geometry are flagged as shadow.\\n\\nCalibrated data is then orthorectified to the appropriate UTM projection. The orthorectified output maintains the original sample sizes (in range and azimuth) and was not shifted to any specific grid.\\n\\nRTC data is processed only for the Interferometric Wide Swath (IW) mode, which is the main acquisition mode over land and satisfies the majority of service requirements.\\n\", 'license': 'CC-BY-4.0', 'providers': [{'url': 'https://catalyst.earth', 'name': 'Catalyst', 'roles': ['processor']}, {'url': 'https://planetarycomputer.microsoft.com', 'name': 'Microsoft', 'roles': ['host', 'licensor']}], 'extent': {'spatial': {'bbox': [[-180, -90, 180, 90]]}, 'temporal': {'interval': [['2014-10-10T00:28:21Z', {}]]}}, 'links': [{'rel': 'license', 'href': 'https://creativecommons.org/licenses/by/4.0/', 'title': 'CC BY 4.0'}, {'rel': 'root', 'href': 'http://127.0.0.1:8000/', 'type': 'application/json'}, {'rel': 'self', 'href': 'http://127.0.0.1:8000/collections/mpc-sentinel-1-rtc', 'type': 'application/json'}, {'rel': 'parent', 'href': 'http://127.0.0.1:8000/', 'title': 'Root', 'type': 'application/json'}, {'rel': 'items', 'href': 'http://127.0.0.1:8000/collections/mpc-sentinel-1-rtc/items', 'title': 'Items', 'type': 'application/geo+json'}], 'cube:dimensions': {'x': {'type': 'spatial', 'axis': 'x', 'extent': [-180, 180], 'reference_system': 42001}, 'y': {'type': 'spatial', 'axis': 'y', 'extent': [-90, 90], 'reference_system': 42001}, 't': {'type': 'temporal', 'axis': 't', 'extent': ['2014-10-10T00:28:21Z', {}]}, 'bands': {'type': 'bands', 'values': ['vv', 'vh']}}}]\n"
     ]
    }
   ],
   "source": [
    "print(connection.list_collections())"
   ]
  },
  {
   "cell_type": "code",
   "execution_count": 4,
   "id": "5fb3d8b7",
   "metadata": {},
   "outputs": [
    {
     "name": "stdout",
     "output_type": "stream",
     "text": [
      "['mpc-landsat-c2-l2', 'mpc-sentinel-2-l2a', 'mpc-sentinel-1-grd', 'mpc-sentinel-1-rtc']\n"
     ]
    }
   ],
   "source": [
    "print(connection.list_collection_ids())"
   ]
  },
  {
   "cell_type": "markdown",
   "id": "fcfe823c",
   "metadata": {},
   "source": [
    "## Explore Available Processes\n",
    "\n",
    "Let's examine the available processes on the backend, particularly focusing on ML-related ones.\n"
   ]
  },
  {
   "cell_type": "code",
   "execution_count": 5,
   "id": "bdefeff4",
   "metadata": {},
   "outputs": [
    {
     "name": "stdout",
     "output_type": "stream",
     "text": [
      "Available processes on this backend:\n",
      "- load_collection\n",
      "- mlm_class_random_forest\n",
      "- mlm_class_svm\n",
      "- mlm_class_xgboost\n",
      "- ml_class_mlp\n",
      "- mlm_class_tempcnn\n",
      "- mlm_class_tae\n",
      "- mlm_class_lighttae\n",
      "- ml_fit\n",
      "- ml_predict\n",
      "- ml_predict_probabilities\n",
      "- ml_uncertainty_class\n",
      "- ml_smooth_class\n",
      "- ml_label_class\n",
      "- cube_regularize\n",
      "- ndvi\n",
      "- save_result\n",
      "- load_result\n",
      "- export_cube\n",
      "- import_cube\n",
      "- export_ml_model\n",
      "- import_ml_model\n",
      "- save_ml_model\n",
      "- load_ml_model\n"
     ]
    }
   ],
   "source": [
    "process_ids = [process[\"id\"] for process in connection.list_processes()]\n",
    "print(\"Available processes on this backend:\")\n",
    "for process_id in process_ids:\n",
    "    print(f\"- {process_id}\")"
   ]
  },
  {
   "cell_type": "markdown",
   "id": "96808d5a",
   "metadata": {},
   "source": [
    "## Examine ML Process Details\n",
    "\n",
    "Let's look at the details of some ML processes to understand their parameters and requirements.\n"
   ]
  },
  {
   "cell_type": "code",
   "execution_count": 6,
   "id": "f9a9acb5",
   "metadata": {},
   "outputs": [
    {
     "data": {
      "text/html": [
       "\n",
       "    <script>\n",
       "    if (!window.customElements || !window.customElements.get('openeo-process')) {\n",
       "        var el = document.createElement('script');\n",
       "        el.src = \"https://cdn.jsdelivr.net/npm/@openeo/vue-components@2/assets/openeo.min.js\";\n",
       "        document.head.appendChild(el);\n",
       "\n",
       "        var font = document.createElement('font');\n",
       "        font.as = \"font\";\n",
       "        font.type = \"font/woff2\";\n",
       "        font.crossOrigin = true;\n",
       "        font.href = \"https://use.fontawesome.com/releases/v5.13.0/webfonts/fa-solid-900.woff2\"\n",
       "        document.head.appendChild(font);\n",
       "    }\n",
       "    </script>\n",
       "    <openeo-process>\n",
       "        <script type=\"application/json\">{\"show-graph\": true, \"provide-download\": false, \"process\": {\"id\": \"mlm_class_random_forest\", \"summary\": \"Initialize a Random Forest classification model\", \"description\": \"Creates and configures a Random Forest classification model. Parameters such as the number of trees and maximum depth can be specified.\", \"categories\": [\"machine learning\"], \"experimental\": true, \"parameters\": [{\"name\": \"num_trees\", \"description\": \"The number of trees in the Random Forest.\", \"schema\": {\"type\": \"integer\", \"minimum\": 1, \"default\": 100}}, {\"name\": \"max_variables\", \"description\": \"Specifies how many split variables will be used at a node.\\n\\nThe following options are available:\\n\\n- *integer*: The given number of variables are considered for each split.\\n- `log2`: The logarithm with base 2 of the number of variables are considered for each split.\\n- `sqrt`: The square root of the number of variables are considered for each split. This is often the default for classification.\", \"optional\": true, \"default\": \"sqrt\", \"schema\": [{\"type\": \"integer\", \"minimum\": 1}, {\"type\": \"string\", \"enum\": [\"log2\", \"sqrt\"]}]}, {\"name\": \"seed\", \"description\": \"A randomization seed to use for the random sampling in training. If not given or `null`, no seed is used and results may differ on subsequent use.\", \"optional\": true, \"default\": {}, \"schema\": {\"type\": [\"integer\", \"null\"]}}], \"returns\": {\"description\": \"An untrained Random Forest classification model instance.\", \"schema\": {\"type\": \"object\", \"subtype\": \"ml-model\"}}, \"links\": [{\"href\": \"https://doi.org/10.1023/A:1010933404324\", \"title\": \"Breiman (2001): Random Forests\", \"type\": \"text/html\", \"rel\": \"about\"}]}}</script>\n",
       "    </openeo-process>\n",
       "    "
      ],
      "text/plain": [
       "{'id': 'mlm_class_random_forest',\n",
       " 'summary': 'Initialize a Random Forest classification model',\n",
       " 'description': 'Creates and configures a Random Forest classification model. Parameters such as the number of trees and maximum depth can be specified.',\n",
       " 'categories': ['machine learning'],\n",
       " 'experimental': True,\n",
       " 'parameters': [{'name': 'num_trees',\n",
       "   'description': 'The number of trees in the Random Forest.',\n",
       "   'schema': {'type': 'integer', 'minimum': 1, 'default': 100}},\n",
       "  {'name': 'max_variables',\n",
       "   'description': 'Specifies how many split variables will be used at a node.\\n\\nThe following options are available:\\n\\n- *integer*: The given number of variables are considered for each split.\\n- `log2`: The logarithm with base 2 of the number of variables are considered for each split.\\n- `sqrt`: The square root of the number of variables are considered for each split. This is often the default for classification.',\n",
       "   'optional': True,\n",
       "   'default': 'sqrt',\n",
       "   'schema': [{'type': 'integer', 'minimum': 1},\n",
       "    {'type': 'string', 'enum': ['log2', 'sqrt']}]},\n",
       "  {'name': 'seed',\n",
       "   'description': 'A randomization seed to use for the random sampling in training. If not given or `null`, no seed is used and results may differ on subsequent use.',\n",
       "   'optional': True,\n",
       "   'default': {},\n",
       "   'schema': {'type': ['integer', 'null']}}],\n",
       " 'returns': {'description': 'An untrained Random Forest classification model instance.',\n",
       "  'schema': {'type': 'object', 'subtype': 'ml-model'}},\n",
       " 'links': [{'href': 'https://doi.org/10.1023/A:1010933404324',\n",
       "   'title': 'Breiman (2001): Random Forests',\n",
       "   'type': 'text/html',\n",
       "   'rel': 'about'}]}"
      ]
     },
     "execution_count": 6,
     "metadata": {},
     "output_type": "execute_result"
    }
   ],
   "source": [
    "connection.describe_process(\"mlm_class_random_forest\")"
   ]
  },
  {
   "cell_type": "code",
   "execution_count": 7,
   "id": "9e1c9a33",
   "metadata": {},
   "outputs": [
    {
     "data": {
      "text/html": [
       "\n",
       "    <script>\n",
       "    if (!window.customElements || !window.customElements.get('openeo-process')) {\n",
       "        var el = document.createElement('script');\n",
       "        el.src = \"https://cdn.jsdelivr.net/npm/@openeo/vue-components@2/assets/openeo.min.js\";\n",
       "        document.head.appendChild(el);\n",
       "\n",
       "        var font = document.createElement('font');\n",
       "        font.as = \"font\";\n",
       "        font.type = \"font/woff2\";\n",
       "        font.crossOrigin = true;\n",
       "        font.href = \"https://use.fontawesome.com/releases/v5.13.0/webfonts/fa-solid-900.woff2\"\n",
       "        document.head.appendChild(font);\n",
       "    }\n",
       "    </script>\n",
       "    <openeo-process>\n",
       "        <script type=\"application/json\">{\"show-graph\": true, \"provide-download\": false, \"process\": {\"id\": \"mlm_class_tempcnn\", \"summary\": \"Initialize a Temporal Convolutional Neural Network (TempCNN) classification model\", \"description\": \"Creates and configures a Temporal Convolutional Neural Network (TempCNN) model for time-series data. Parameters such as the convolutional architecture, dense layers, optimizer, and learning rate schedule can be specified.\", \"categories\": [\"machine learning\"], \"experimental\": true, \"parameters\": [{\"name\": \"cnn_layers\", \"description\": \"A list specifying the number of filters in each convolutional layer. Defaults to [64, 64, 64].\", \"optional\": true, \"default\": [64, 64, 64], \"schema\": {\"type\": \"array\", \"items\": {\"type\": \"integer\", \"minimum\": 1}, \"minItems\": 1}}, {\"name\": \"cnn_kernels\", \"description\": \"A list specifying the kernel size for each convolutional layer. Must match the number of CNN layers. Defaults to [5, 5, 5].\", \"optional\": true, \"default\": [5, 5, 5], \"schema\": {\"type\": \"array\", \"items\": {\"type\": \"integer\", \"minimum\": 1}, \"minItems\": 1}}, {\"name\": \"cnn_dropout_rates\", \"description\": \"A list of dropout rates for each convolutional layer. Must match the number of CNN layers. Defaults to [0.2, 0.2, 0.2].\", \"optional\": true, \"default\": [0.2, 0.2, 0.2], \"schema\": {\"type\": \"array\", \"items\": {\"type\": \"number\", \"minimum\": 0, \"maximum\": 1}, \"minItems\": 1}}, {\"name\": \"dense_layer_nodes\", \"description\": \"The number of nodes in the dense layer following the convolutional layers. Defaults to 256.\", \"optional\": true, \"default\": 256, \"schema\": {\"type\": \"integer\", \"minimum\": 1}}, {\"name\": \"dense_layer_dropout_rate\", \"description\": \"The dropout rate for the dense layer. Defaults to 0.5.\", \"optional\": true, \"default\": 0.5, \"schema\": {\"type\": \"number\", \"minimum\": 0, \"maximum\": 1}}, {\"name\": \"optimizer\", \"description\": \"The optimizer to use for training. Defaults to 'adam'. Supported values include 'adam', 'adabound', 'adabelief', 'madagrad', 'nadam', 'qhadam', 'radam', 'swats', and 'yogi'.\", \"optional\": true, \"default\": \"adam\", \"schema\": {\"type\": \"string\", \"enum\": [\"adam\", \"adabound\", \"adabelief\", \"madagrad\", \"nadam\", \"qhadam\", \"radam\", \"swats\", \"yogi\"]}}, {\"name\": \"learning_rate\", \"description\": \"The initial learning rate for training. Defaults to 0.0005.\", \"optional\": true, \"default\": 0.0005, \"schema\": {\"type\": \"number\", \"minimum\": 0}}, {\"name\": \"epsilon\", \"description\": \"The epsilon value for numerical stability in optimizers. Defaults to 1e-8.\", \"optional\": true, \"default\": 1e-08, \"schema\": {\"type\": \"number\", \"minimum\": 0}}, {\"name\": \"weight_decay\", \"description\": \"The weight decay (L2 penalty) value for regularization. Defaults to 1e-6.\", \"optional\": true, \"default\": 1e-06, \"schema\": {\"type\": \"number\", \"minimum\": 0}}, {\"name\": \"lr_decay_epochs\", \"description\": \"The number of epochs after which the learning rate is decayed. Defaults to 1.\", \"optional\": true, \"default\": 1, \"schema\": {\"type\": \"integer\", \"minimum\": 1}}, {\"name\": \"lr_decay_rate\", \"description\": \"The rate at which the learning rate is decayed after the specified number of epochs. Defaults to 0.95.\", \"optional\": true, \"default\": 0.95, \"schema\": {\"type\": \"number\", \"minimum\": 0, \"maximum\": 1}}, {\"name\": \"epochs\", \"description\": \"The number of training epochs. Defaults to 150.\", \"optional\": true, \"default\": 150, \"schema\": {\"type\": \"integer\", \"minimum\": 1}}, {\"name\": \"batch_size\", \"description\": \"The size of batches for training. Defaults to 64.\", \"optional\": true, \"default\": 64, \"schema\": {\"type\": \"integer\", \"minimum\": 1}}, {\"name\": \"seed\", \"description\": \"Seed for the random number generator. If `null`, no seed is used, and results may vary.\", \"optional\": true, \"default\": {}, \"schema\": {\"type\": [\"integer\", \"null\"]}}], \"returns\": {\"description\": \"An untrained TempCNN classification model instance.\", \"schema\": {\"type\": \"object\", \"subtype\": \"ml-model\"}}, \"links\": [{\"href\": \"https://doi.org/10.3390/rs11050523\", \"title\": \"Pelletier, C., Webb, G. I., & Petitjean, F. (2019). Temporal Convolutional Neural Network for the Classification of Satellite Image Time Series\", \"type\": \"text/html\", \"rel\": \"about\"}]}}</script>\n",
       "    </openeo-process>\n",
       "    "
      ],
      "text/plain": [
       "{'id': 'mlm_class_tempcnn',\n",
       " 'summary': 'Initialize a Temporal Convolutional Neural Network (TempCNN) classification model',\n",
       " 'description': 'Creates and configures a Temporal Convolutional Neural Network (TempCNN) model for time-series data. Parameters such as the convolutional architecture, dense layers, optimizer, and learning rate schedule can be specified.',\n",
       " 'categories': ['machine learning'],\n",
       " 'experimental': True,\n",
       " 'parameters': [{'name': 'cnn_layers',\n",
       "   'description': 'A list specifying the number of filters in each convolutional layer. Defaults to [64, 64, 64].',\n",
       "   'optional': True,\n",
       "   'default': [64, 64, 64],\n",
       "   'schema': {'type': 'array',\n",
       "    'items': {'type': 'integer', 'minimum': 1},\n",
       "    'minItems': 1}},\n",
       "  {'name': 'cnn_kernels',\n",
       "   'description': 'A list specifying the kernel size for each convolutional layer. Must match the number of CNN layers. Defaults to [5, 5, 5].',\n",
       "   'optional': True,\n",
       "   'default': [5, 5, 5],\n",
       "   'schema': {'type': 'array',\n",
       "    'items': {'type': 'integer', 'minimum': 1},\n",
       "    'minItems': 1}},\n",
       "  {'name': 'cnn_dropout_rates',\n",
       "   'description': 'A list of dropout rates for each convolutional layer. Must match the number of CNN layers. Defaults to [0.2, 0.2, 0.2].',\n",
       "   'optional': True,\n",
       "   'default': [0.2, 0.2, 0.2],\n",
       "   'schema': {'type': 'array',\n",
       "    'items': {'type': 'number', 'minimum': 0, 'maximum': 1},\n",
       "    'minItems': 1}},\n",
       "  {'name': 'dense_layer_nodes',\n",
       "   'description': 'The number of nodes in the dense layer following the convolutional layers. Defaults to 256.',\n",
       "   'optional': True,\n",
       "   'default': 256,\n",
       "   'schema': {'type': 'integer', 'minimum': 1}},\n",
       "  {'name': 'dense_layer_dropout_rate',\n",
       "   'description': 'The dropout rate for the dense layer. Defaults to 0.5.',\n",
       "   'optional': True,\n",
       "   'default': 0.5,\n",
       "   'schema': {'type': 'number', 'minimum': 0, 'maximum': 1}},\n",
       "  {'name': 'optimizer',\n",
       "   'description': \"The optimizer to use for training. Defaults to 'adam'. Supported values include 'adam', 'adabound', 'adabelief', 'madagrad', 'nadam', 'qhadam', 'radam', 'swats', and 'yogi'.\",\n",
       "   'optional': True,\n",
       "   'default': 'adam',\n",
       "   'schema': {'type': 'string',\n",
       "    'enum': ['adam',\n",
       "     'adabound',\n",
       "     'adabelief',\n",
       "     'madagrad',\n",
       "     'nadam',\n",
       "     'qhadam',\n",
       "     'radam',\n",
       "     'swats',\n",
       "     'yogi']}},\n",
       "  {'name': 'learning_rate',\n",
       "   'description': 'The initial learning rate for training. Defaults to 0.0005.',\n",
       "   'optional': True,\n",
       "   'default': 0.0005,\n",
       "   'schema': {'type': 'number', 'minimum': 0}},\n",
       "  {'name': 'epsilon',\n",
       "   'description': 'The epsilon value for numerical stability in optimizers. Defaults to 1e-8.',\n",
       "   'optional': True,\n",
       "   'default': 1e-08,\n",
       "   'schema': {'type': 'number', 'minimum': 0}},\n",
       "  {'name': 'weight_decay',\n",
       "   'description': 'The weight decay (L2 penalty) value for regularization. Defaults to 1e-6.',\n",
       "   'optional': True,\n",
       "   'default': 1e-06,\n",
       "   'schema': {'type': 'number', 'minimum': 0}},\n",
       "  {'name': 'lr_decay_epochs',\n",
       "   'description': 'The number of epochs after which the learning rate is decayed. Defaults to 1.',\n",
       "   'optional': True,\n",
       "   'default': 1,\n",
       "   'schema': {'type': 'integer', 'minimum': 1}},\n",
       "  {'name': 'lr_decay_rate',\n",
       "   'description': 'The rate at which the learning rate is decayed after the specified number of epochs. Defaults to 0.95.',\n",
       "   'optional': True,\n",
       "   'default': 0.95,\n",
       "   'schema': {'type': 'number', 'minimum': 0, 'maximum': 1}},\n",
       "  {'name': 'epochs',\n",
       "   'description': 'The number of training epochs. Defaults to 150.',\n",
       "   'optional': True,\n",
       "   'default': 150,\n",
       "   'schema': {'type': 'integer', 'minimum': 1}},\n",
       "  {'name': 'batch_size',\n",
       "   'description': 'The size of batches for training. Defaults to 64.',\n",
       "   'optional': True,\n",
       "   'default': 64,\n",
       "   'schema': {'type': 'integer', 'minimum': 1}},\n",
       "  {'name': 'seed',\n",
       "   'description': 'Seed for the random number generator. If `null`, no seed is used, and results may vary.',\n",
       "   'optional': True,\n",
       "   'default': {},\n",
       "   'schema': {'type': ['integer', 'null']}}],\n",
       " 'returns': {'description': 'An untrained TempCNN classification model instance.',\n",
       "  'schema': {'type': 'object', 'subtype': 'ml-model'}},\n",
       " 'links': [{'href': 'https://doi.org/10.3390/rs11050523',\n",
       "   'title': 'Pelletier, C., Webb, G. I., & Petitjean, F. (2019). Temporal Convolutional Neural Network for the Classification of Satellite Image Time Series',\n",
       "   'type': 'text/html',\n",
       "   'rel': 'about'}]}"
      ]
     },
     "execution_count": 7,
     "metadata": {},
     "output_type": "execute_result"
    }
   ],
   "source": [
    "connection.describe_process(\"mlm_class_tempcnn\")"
   ]
  },
  {
   "cell_type": "markdown",
   "id": "56ad5697",
   "metadata": {},
   "source": [
    "## Load and Prepare Data\n",
    "\n",
    "We'll load Sentinel-2 data and prepare it for our analysis."
   ]
  },
  {
   "cell_type": "code",
   "execution_count": 8,
   "id": "3b8e084b",
   "metadata": {},
   "outputs": [
    {
     "name": "stderr",
     "output_type": "stream",
     "text": [
      "Failed to parse API error response: [500] '{\"code\":500,\"message\":\"Error: $ operator is invalid for atomic vectors\"}' (headers: {'Date': 'Sat, 21 Jun 2025 07:22:48 GMT', 'Access-Control-Allow-Origin': '*', 'Content-Type': 'application/json', 'Content-Encoding': 'gzip', 'Transfer-Encoding': 'chunked'})\n"
     ]
    },
    {
     "ename": "OpenEoApiPlainError",
     "evalue": "[500] {\"code\":500,\"message\":\"Error: $ operator is invalid for atomic vectors\"}",
     "output_type": "error",
     "traceback": [
      "\u001b[0;31m---------------------------------------------------------------------------\u001b[0m",
      "\u001b[0;31mOpenEoApiPlainError\u001b[0m                       Traceback (most recent call last)",
      "Cell \u001b[0;32mIn[8], line 2\u001b[0m\n\u001b[1;32m      1\u001b[0m \u001b[38;5;66;03m# Load a data cube\u001b[39;00m\n\u001b[0;32m----> 2\u001b[0m datacube \u001b[38;5;241m=\u001b[39m \u001b[43mconnection\u001b[49m\u001b[38;5;241;43m.\u001b[39;49m\u001b[43mload_collection\u001b[49m\u001b[43m(\u001b[49m\n\u001b[1;32m      3\u001b[0m \u001b[43m    \u001b[49m\u001b[43mcollection_id\u001b[49m\u001b[38;5;241;43m=\u001b[39;49m\u001b[38;5;124;43m\"\u001b[39;49m\u001b[38;5;124;43mmpc-sentinel-2-l2a\u001b[39;49m\u001b[38;5;124;43m\"\u001b[39;49m\u001b[43m,\u001b[49m\n\u001b[1;32m      4\u001b[0m \u001b[43m    \u001b[49m\u001b[43mspatial_extent\u001b[49m\u001b[38;5;241;43m=\u001b[39;49m\u001b[43m{\u001b[49m\u001b[38;5;124;43m\"\u001b[39;49m\u001b[38;5;124;43mwest\u001b[39;49m\u001b[38;5;124;43m\"\u001b[39;49m\u001b[43m:\u001b[49m\u001b[43m \u001b[49m\u001b[38;5;241;43m-\u001b[39;49m\u001b[38;5;241;43m63.9\u001b[39;49m\u001b[43m,\u001b[49m\u001b[43m \u001b[49m\u001b[38;5;124;43m\"\u001b[39;49m\u001b[38;5;124;43msouth\u001b[39;49m\u001b[38;5;124;43m\"\u001b[39;49m\u001b[43m:\u001b[49m\u001b[43m \u001b[49m\u001b[38;5;241;43m-\u001b[39;49m\u001b[38;5;241;43m9.14\u001b[39;49m\u001b[43m,\u001b[49m\u001b[43m \u001b[49m\u001b[38;5;124;43m\"\u001b[39;49m\u001b[38;5;124;43meast\u001b[39;49m\u001b[38;5;124;43m\"\u001b[39;49m\u001b[43m:\u001b[49m\u001b[43m \u001b[49m\u001b[38;5;241;43m-\u001b[39;49m\u001b[38;5;241;43m62.9\u001b[39;49m\u001b[43m,\u001b[49m\u001b[43m \u001b[49m\u001b[38;5;124;43m\"\u001b[39;49m\u001b[38;5;124;43mnorth\u001b[39;49m\u001b[38;5;124;43m\"\u001b[39;49m\u001b[43m:\u001b[49m\u001b[43m \u001b[49m\u001b[38;5;241;43m-\u001b[39;49m\u001b[38;5;241;43m8.14\u001b[39;49m\u001b[43m}\u001b[49m\u001b[43m,\u001b[49m\n\u001b[1;32m      5\u001b[0m \u001b[43m    \u001b[49m\u001b[43mtemporal_extent\u001b[49m\u001b[38;5;241;43m=\u001b[39;49m\u001b[43m[\u001b[49m\u001b[38;5;124;43m\"\u001b[39;49m\u001b[38;5;124;43m2022-01-01\u001b[39;49m\u001b[38;5;124;43m\"\u001b[39;49m\u001b[43m,\u001b[49m\u001b[43m \u001b[49m\u001b[38;5;124;43m\"\u001b[39;49m\u001b[38;5;124;43m2022-12-31\u001b[39;49m\u001b[38;5;124;43m\"\u001b[39;49m\u001b[43m]\u001b[49m\n\u001b[1;32m      6\u001b[0m \u001b[43m)\u001b[49m\n",
      "File \u001b[0;32m~/ml-dev/openeo-python-client/openeo/rest/connection.py:1171\u001b[0m, in \u001b[0;36mConnection.load_collection\u001b[0;34m(self, collection_id, spatial_extent, temporal_extent, bands, properties, max_cloud_cover, fetch_metadata)\u001b[0m\n\u001b[1;32m   1122\u001b[0m \u001b[38;5;129m@openeo_process\u001b[39m\n\u001b[1;32m   1123\u001b[0m \u001b[38;5;28;01mdef\u001b[39;00m \u001b[38;5;21mload_collection\u001b[39m(\n\u001b[1;32m   1124\u001b[0m     \u001b[38;5;28mself\u001b[39m,\n\u001b[0;32m   (...)\u001b[0m\n\u001b[1;32m   1133\u001b[0m     fetch_metadata: \u001b[38;5;28mbool\u001b[39m \u001b[38;5;241m=\u001b[39m \u001b[38;5;28;01mTrue\u001b[39;00m,\n\u001b[1;32m   1134\u001b[0m ) \u001b[38;5;241m-\u001b[39m\u001b[38;5;241m>\u001b[39m DataCube:\n\u001b[1;32m   1135\u001b[0m \u001b[38;5;250m    \u001b[39m\u001b[38;5;124;03m\"\"\"\u001b[39;00m\n\u001b[1;32m   1136\u001b[0m \u001b[38;5;124;03m    Load a DataCube by collection id.\u001b[39;00m\n\u001b[1;32m   1137\u001b[0m \n\u001b[0;32m   (...)\u001b[0m\n\u001b[1;32m   1169\u001b[0m \u001b[38;5;124;03m        Argument ``spatial_extent``: add support for passing a Shapely geometry or a local path to a GeoJSON file.\u001b[39;00m\n\u001b[1;32m   1170\u001b[0m \u001b[38;5;124;03m    \"\"\"\u001b[39;00m\n\u001b[0;32m-> 1171\u001b[0m     \u001b[38;5;28;01mreturn\u001b[39;00m \u001b[43mDataCube\u001b[49m\u001b[38;5;241;43m.\u001b[39;49m\u001b[43mload_collection\u001b[49m\u001b[43m(\u001b[49m\n\u001b[1;32m   1172\u001b[0m \u001b[43m        \u001b[49m\u001b[43mcollection_id\u001b[49m\u001b[38;5;241;43m=\u001b[39;49m\u001b[43mcollection_id\u001b[49m\u001b[43m,\u001b[49m\n\u001b[1;32m   1173\u001b[0m \u001b[43m        \u001b[49m\u001b[43mconnection\u001b[49m\u001b[38;5;241;43m=\u001b[39;49m\u001b[38;5;28;43mself\u001b[39;49m\u001b[43m,\u001b[49m\n\u001b[1;32m   1174\u001b[0m \u001b[43m        \u001b[49m\u001b[43mspatial_extent\u001b[49m\u001b[38;5;241;43m=\u001b[39;49m\u001b[43mspatial_extent\u001b[49m\u001b[43m,\u001b[49m\n\u001b[1;32m   1175\u001b[0m \u001b[43m        \u001b[49m\u001b[43mtemporal_extent\u001b[49m\u001b[38;5;241;43m=\u001b[39;49m\u001b[43mtemporal_extent\u001b[49m\u001b[43m,\u001b[49m\n\u001b[1;32m   1176\u001b[0m \u001b[43m        \u001b[49m\u001b[43mbands\u001b[49m\u001b[38;5;241;43m=\u001b[39;49m\u001b[43mbands\u001b[49m\u001b[43m,\u001b[49m\n\u001b[1;32m   1177\u001b[0m \u001b[43m        \u001b[49m\u001b[43mproperties\u001b[49m\u001b[38;5;241;43m=\u001b[39;49m\u001b[43mproperties\u001b[49m\u001b[43m,\u001b[49m\n\u001b[1;32m   1178\u001b[0m \u001b[43m        \u001b[49m\u001b[43mmax_cloud_cover\u001b[49m\u001b[38;5;241;43m=\u001b[39;49m\u001b[43mmax_cloud_cover\u001b[49m\u001b[43m,\u001b[49m\n\u001b[1;32m   1179\u001b[0m \u001b[43m        \u001b[49m\u001b[43mfetch_metadata\u001b[49m\u001b[38;5;241;43m=\u001b[39;49m\u001b[43mfetch_metadata\u001b[49m\u001b[43m,\u001b[49m\n\u001b[1;32m   1180\u001b[0m \u001b[43m    \u001b[49m\u001b[43m)\u001b[49m\n",
      "File \u001b[0;32m~/ml-dev/openeo-python-client/openeo/rest/datacube.py:242\u001b[0m, in \u001b[0;36mDataCube.load_collection\u001b[0;34m(cls, collection_id, connection, spatial_extent, temporal_extent, bands, fetch_metadata, properties, max_cloud_cover)\u001b[0m\n\u001b[1;32m    239\u001b[0m \u001b[38;5;28;01mif\u001b[39;00m \u001b[38;5;28misinstance\u001b[39m(collection_id, Parameter):\n\u001b[1;32m    240\u001b[0m     fetch_metadata \u001b[38;5;241m=\u001b[39m \u001b[38;5;28;01mFalse\u001b[39;00m\n\u001b[1;32m    241\u001b[0m metadata: Optional[CollectionMetadata] \u001b[38;5;241m=\u001b[39m (\n\u001b[0;32m--> 242\u001b[0m     \u001b[43mconnection\u001b[49m\u001b[38;5;241;43m.\u001b[39;49m\u001b[43mcollection_metadata\u001b[49m\u001b[43m(\u001b[49m\u001b[43mcollection_id\u001b[49m\u001b[43m)\u001b[49m \u001b[38;5;28;01mif\u001b[39;00m connection \u001b[38;5;129;01mand\u001b[39;00m fetch_metadata \u001b[38;5;28;01melse\u001b[39;00m \u001b[38;5;28;01mNone\u001b[39;00m\n\u001b[1;32m    243\u001b[0m )\n\u001b[1;32m    244\u001b[0m \u001b[38;5;28;01mif\u001b[39;00m bands \u001b[38;5;129;01mis\u001b[39;00m \u001b[38;5;129;01mnot\u001b[39;00m \u001b[38;5;28;01mNone\u001b[39;00m:\n\u001b[1;32m    245\u001b[0m     bands \u001b[38;5;241m=\u001b[39m \u001b[38;5;28mcls\u001b[39m\u001b[38;5;241m.\u001b[39m_get_bands(bands, process_id\u001b[38;5;241m=\u001b[39m\u001b[38;5;124m\"\u001b[39m\u001b[38;5;124mload_collection\u001b[39m\u001b[38;5;124m\"\u001b[39m)\n",
      "File \u001b[0;32m~/ml-dev/openeo-python-client/openeo/rest/connection.py:872\u001b[0m, in \u001b[0;36mConnection.collection_metadata\u001b[0;34m(self, name)\u001b[0m\n\u001b[1;32m    870\u001b[0m \u001b[38;5;28;01mdef\u001b[39;00m \u001b[38;5;21mcollection_metadata\u001b[39m(\u001b[38;5;28mself\u001b[39m, name) \u001b[38;5;241m-\u001b[39m\u001b[38;5;241m>\u001b[39m CollectionMetadata:\n\u001b[1;32m    871\u001b[0m     \u001b[38;5;66;03m# TODO: duplication with `Connection.describe_collection`: deprecate one or the other?\u001b[39;00m\n\u001b[0;32m--> 872\u001b[0m     \u001b[38;5;28;01mreturn\u001b[39;00m CollectionMetadata(metadata\u001b[38;5;241m=\u001b[39m\u001b[38;5;28;43mself\u001b[39;49m\u001b[38;5;241;43m.\u001b[39;49m\u001b[43mdescribe_collection\u001b[49m\u001b[43m(\u001b[49m\u001b[43mname\u001b[49m\u001b[43m)\u001b[49m)\n",
      "File \u001b[0;32m~/ml-dev/openeo-python-client/openeo/rest/connection.py:829\u001b[0m, in \u001b[0;36mConnection.describe_collection\u001b[0;34m(self, collection_id)\u001b[0m\n\u001b[1;32m    816\u001b[0m \u001b[38;5;250m\u001b[39m\u001b[38;5;124;03m\"\"\"\u001b[39;00m\n\u001b[1;32m    817\u001b[0m \u001b[38;5;124;03mGet full collection metadata for given collection id.\u001b[39;00m\n\u001b[1;32m    818\u001b[0m \n\u001b[0;32m   (...)\u001b[0m\n\u001b[1;32m    825\u001b[0m \u001b[38;5;124;03m:return: collection metadata.\u001b[39;00m\n\u001b[1;32m    826\u001b[0m \u001b[38;5;124;03m\"\"\"\u001b[39;00m\n\u001b[1;32m    827\u001b[0m \u001b[38;5;66;03m# TODO: duplication with `Connection.collection_metadata`: deprecate one or the other?\u001b[39;00m\n\u001b[1;32m    828\u001b[0m \u001b[38;5;66;03m# TODO: add caching #383\u001b[39;00m\n\u001b[0;32m--> 829\u001b[0m data \u001b[38;5;241m=\u001b[39m \u001b[38;5;28;43mself\u001b[39;49m\u001b[38;5;241;43m.\u001b[39;49m\u001b[43mget\u001b[49m\u001b[43m(\u001b[49m\u001b[38;5;124;43mf\u001b[39;49m\u001b[38;5;124;43m\"\u001b[39;49m\u001b[38;5;124;43m/collections/\u001b[39;49m\u001b[38;5;132;43;01m{\u001b[39;49;00m\u001b[43mcollection_id\u001b[49m\u001b[38;5;132;43;01m}\u001b[39;49;00m\u001b[38;5;124;43m\"\u001b[39;49m\u001b[43m,\u001b[49m\u001b[43m \u001b[49m\u001b[43mexpected_status\u001b[49m\u001b[38;5;241;43m=\u001b[39;49m\u001b[38;5;241;43m200\u001b[39;49m\u001b[43m)\u001b[49m\u001b[38;5;241m.\u001b[39mjson()\n\u001b[1;32m    830\u001b[0m \u001b[38;5;28;01mreturn\u001b[39;00m VisualDict(\u001b[38;5;124m\"\u001b[39m\u001b[38;5;124mcollection\u001b[39m\u001b[38;5;124m\"\u001b[39m, data\u001b[38;5;241m=\u001b[39mdata)\n",
      "File \u001b[0;32m~/ml-dev/openeo-python-client/openeo/rest/_connection.py:204\u001b[0m, in \u001b[0;36mRestApiConnection.get\u001b[0;34m(self, path, params, stream, auth, **kwargs)\u001b[0m\n\u001b[1;32m    186\u001b[0m \u001b[38;5;28;01mdef\u001b[39;00m \u001b[38;5;21mget\u001b[39m(\n\u001b[1;32m    187\u001b[0m     \u001b[38;5;28mself\u001b[39m,\n\u001b[1;32m    188\u001b[0m     path: \u001b[38;5;28mstr\u001b[39m,\n\u001b[0;32m   (...)\u001b[0m\n\u001b[1;32m    193\u001b[0m     \u001b[38;5;241m*\u001b[39m\u001b[38;5;241m*\u001b[39mkwargs,\n\u001b[1;32m    194\u001b[0m ) \u001b[38;5;241m-\u001b[39m\u001b[38;5;241m>\u001b[39m Response:\n\u001b[1;32m    195\u001b[0m \u001b[38;5;250m    \u001b[39m\u001b[38;5;124;03m\"\"\"\u001b[39;00m\n\u001b[1;32m    196\u001b[0m \u001b[38;5;124;03m    Do GET request to REST API.\u001b[39;00m\n\u001b[1;32m    197\u001b[0m \n\u001b[0;32m   (...)\u001b[0m\n\u001b[1;32m    202\u001b[0m \u001b[38;5;124;03m    :return: response: Response\u001b[39;00m\n\u001b[1;32m    203\u001b[0m \u001b[38;5;124;03m    \"\"\"\u001b[39;00m\n\u001b[0;32m--> 204\u001b[0m     \u001b[38;5;28;01mreturn\u001b[39;00m \u001b[38;5;28;43mself\u001b[39;49m\u001b[38;5;241;43m.\u001b[39;49m\u001b[43mrequest\u001b[49m\u001b[43m(\u001b[49m\u001b[38;5;124;43m\"\u001b[39;49m\u001b[38;5;124;43mget\u001b[39;49m\u001b[38;5;124;43m\"\u001b[39;49m\u001b[43m,\u001b[49m\u001b[43m \u001b[49m\u001b[43mpath\u001b[49m\u001b[38;5;241;43m=\u001b[39;49m\u001b[43mpath\u001b[49m\u001b[43m,\u001b[49m\u001b[43m \u001b[49m\u001b[43mparams\u001b[49m\u001b[38;5;241;43m=\u001b[39;49m\u001b[43mparams\u001b[49m\u001b[43m,\u001b[49m\u001b[43m \u001b[49m\u001b[43mstream\u001b[49m\u001b[38;5;241;43m=\u001b[39;49m\u001b[43mstream\u001b[49m\u001b[43m,\u001b[49m\u001b[43m \u001b[49m\u001b[43mauth\u001b[49m\u001b[38;5;241;43m=\u001b[39;49m\u001b[43mauth\u001b[49m\u001b[43m,\u001b[49m\u001b[43m \u001b[49m\u001b[38;5;241;43m*\u001b[39;49m\u001b[38;5;241;43m*\u001b[39;49m\u001b[43mkwargs\u001b[49m\u001b[43m)\u001b[49m\n",
      "File \u001b[0;32m~/ml-dev/openeo-python-client/openeo/rest/connection.py:682\u001b[0m, in \u001b[0;36mConnection.request\u001b[0;34m(self, method, path, headers, auth, check_error, expected_status, **kwargs)\u001b[0m\n\u001b[1;32m    675\u001b[0m     \u001b[38;5;28;01mreturn\u001b[39;00m \u001b[38;5;28msuper\u001b[39m(Connection, \u001b[38;5;28mself\u001b[39m)\u001b[38;5;241m.\u001b[39mrequest(\n\u001b[1;32m    676\u001b[0m         method\u001b[38;5;241m=\u001b[39mmethod, path\u001b[38;5;241m=\u001b[39mpath, headers\u001b[38;5;241m=\u001b[39mheaders, auth\u001b[38;5;241m=\u001b[39mauth,\n\u001b[1;32m    677\u001b[0m         check_error\u001b[38;5;241m=\u001b[39mcheck_error, expected_status\u001b[38;5;241m=\u001b[39mexpected_status, \u001b[38;5;241m*\u001b[39m\u001b[38;5;241m*\u001b[39mkwargs,\n\u001b[1;32m    678\u001b[0m     )\n\u001b[1;32m    680\u001b[0m \u001b[38;5;28;01mtry\u001b[39;00m:\n\u001b[1;32m    681\u001b[0m     \u001b[38;5;66;03m# Initial request attempt\u001b[39;00m\n\u001b[0;32m--> 682\u001b[0m     \u001b[38;5;28;01mreturn\u001b[39;00m \u001b[43m_request\u001b[49m\u001b[43m(\u001b[49m\u001b[43m)\u001b[49m\n\u001b[1;32m    683\u001b[0m \u001b[38;5;28;01mexcept\u001b[39;00m OpenEoApiError \u001b[38;5;28;01mas\u001b[39;00m api_exc:\n\u001b[1;32m    684\u001b[0m     \u001b[38;5;28;01mif\u001b[39;00m (\n\u001b[1;32m    685\u001b[0m         api_exc\u001b[38;5;241m.\u001b[39mhttp_status_code \u001b[38;5;129;01min\u001b[39;00m {HTTP_401_UNAUTHORIZED, HTTP_403_FORBIDDEN}\n\u001b[1;32m    686\u001b[0m         \u001b[38;5;129;01mand\u001b[39;00m api_exc\u001b[38;5;241m.\u001b[39mcode \u001b[38;5;241m==\u001b[39m \u001b[38;5;124m\"\u001b[39m\u001b[38;5;124mTokenInvalid\u001b[39m\u001b[38;5;124m\"\u001b[39m\n\u001b[1;32m    687\u001b[0m     ):\n\u001b[1;32m    688\u001b[0m         \u001b[38;5;66;03m# Auth token expired: can we refresh?\u001b[39;00m\n",
      "File \u001b[0;32m~/ml-dev/openeo-python-client/openeo/rest/connection.py:675\u001b[0m, in \u001b[0;36mConnection.request.<locals>._request\u001b[0;34m()\u001b[0m\n\u001b[1;32m    674\u001b[0m \u001b[38;5;28;01mdef\u001b[39;00m \u001b[38;5;21m_request\u001b[39m():\n\u001b[0;32m--> 675\u001b[0m     \u001b[38;5;28;01mreturn\u001b[39;00m \u001b[38;5;28;43msuper\u001b[39;49m\u001b[43m(\u001b[49m\u001b[43mConnection\u001b[49m\u001b[43m,\u001b[49m\u001b[43m \u001b[49m\u001b[38;5;28;43mself\u001b[39;49m\u001b[43m)\u001b[49m\u001b[38;5;241;43m.\u001b[39;49m\u001b[43mrequest\u001b[49m\u001b[43m(\u001b[49m\n\u001b[1;32m    676\u001b[0m \u001b[43m        \u001b[49m\u001b[43mmethod\u001b[49m\u001b[38;5;241;43m=\u001b[39;49m\u001b[43mmethod\u001b[49m\u001b[43m,\u001b[49m\u001b[43m \u001b[49m\u001b[43mpath\u001b[49m\u001b[38;5;241;43m=\u001b[39;49m\u001b[43mpath\u001b[49m\u001b[43m,\u001b[49m\u001b[43m \u001b[49m\u001b[43mheaders\u001b[49m\u001b[38;5;241;43m=\u001b[39;49m\u001b[43mheaders\u001b[49m\u001b[43m,\u001b[49m\u001b[43m \u001b[49m\u001b[43mauth\u001b[49m\u001b[38;5;241;43m=\u001b[39;49m\u001b[43mauth\u001b[49m\u001b[43m,\u001b[49m\n\u001b[1;32m    677\u001b[0m \u001b[43m        \u001b[49m\u001b[43mcheck_error\u001b[49m\u001b[38;5;241;43m=\u001b[39;49m\u001b[43mcheck_error\u001b[49m\u001b[43m,\u001b[49m\u001b[43m \u001b[49m\u001b[43mexpected_status\u001b[49m\u001b[38;5;241;43m=\u001b[39;49m\u001b[43mexpected_status\u001b[49m\u001b[43m,\u001b[49m\u001b[43m \u001b[49m\u001b[38;5;241;43m*\u001b[39;49m\u001b[38;5;241;43m*\u001b[39;49m\u001b[43mkwargs\u001b[49m\u001b[43m,\u001b[49m\n\u001b[1;32m    678\u001b[0m \u001b[43m    \u001b[49m\u001b[43m)\u001b[49m\n",
      "File \u001b[0;32m~/ml-dev/openeo-python-client/openeo/rest/_connection.py:141\u001b[0m, in \u001b[0;36mRestApiConnection.request\u001b[0;34m(self, method, path, params, headers, auth, check_error, expected_status, **kwargs)\u001b[0m\n\u001b[1;32m    139\u001b[0m expected_status \u001b[38;5;241m=\u001b[39m ensure_list(expected_status) \u001b[38;5;28;01mif\u001b[39;00m expected_status \u001b[38;5;28;01melse\u001b[39;00m []\n\u001b[1;32m    140\u001b[0m \u001b[38;5;28;01mif\u001b[39;00m check_error \u001b[38;5;129;01mand\u001b[39;00m status \u001b[38;5;241m>\u001b[39m\u001b[38;5;241m=\u001b[39m \u001b[38;5;241m400\u001b[39m \u001b[38;5;129;01mand\u001b[39;00m status \u001b[38;5;129;01mnot\u001b[39;00m \u001b[38;5;129;01min\u001b[39;00m expected_status:\n\u001b[0;32m--> 141\u001b[0m     \u001b[38;5;28;43mself\u001b[39;49m\u001b[38;5;241;43m.\u001b[39;49m\u001b[43m_raise_api_error\u001b[49m\u001b[43m(\u001b[49m\u001b[43mresp\u001b[49m\u001b[43m)\u001b[49m\n\u001b[1;32m    142\u001b[0m \u001b[38;5;28;01mif\u001b[39;00m expected_status \u001b[38;5;129;01mand\u001b[39;00m status \u001b[38;5;129;01mnot\u001b[39;00m \u001b[38;5;129;01min\u001b[39;00m expected_status:\n\u001b[1;32m    143\u001b[0m     \u001b[38;5;28;01mraise\u001b[39;00m OpenEoRestError(\n\u001b[1;32m    144\u001b[0m         \u001b[38;5;124m\"\u001b[39m\u001b[38;5;124mGot status code \u001b[39m\u001b[38;5;132;01m{s!r}\u001b[39;00m\u001b[38;5;124m for `\u001b[39m\u001b[38;5;132;01m{m}\u001b[39;00m\u001b[38;5;124m \u001b[39m\u001b[38;5;132;01m{p}\u001b[39;00m\u001b[38;5;124m` (expected \u001b[39m\u001b[38;5;132;01m{e!r}\u001b[39;00m\u001b[38;5;124m) with body \u001b[39m\u001b[38;5;132;01m{body}\u001b[39;00m\u001b[38;5;124m\"\u001b[39m\u001b[38;5;241m.\u001b[39mformat(\n\u001b[1;32m    145\u001b[0m             m\u001b[38;5;241m=\u001b[39mmethod\u001b[38;5;241m.\u001b[39mupper(), p\u001b[38;5;241m=\u001b[39mpath, s\u001b[38;5;241m=\u001b[39mstatus, e\u001b[38;5;241m=\u001b[39mexpected_status, body\u001b[38;5;241m=\u001b[39mresp\u001b[38;5;241m.\u001b[39mtext\n\u001b[1;32m    146\u001b[0m         )\n\u001b[1;32m    147\u001b[0m     )\n",
      "File \u001b[0;32m~/ml-dev/openeo-python-client/openeo/rest/_connection.py:184\u001b[0m, in \u001b[0;36mRestApiConnection._raise_api_error\u001b[0;34m(self, response)\u001b[0m\n\u001b[1;32m    177\u001b[0m \u001b[38;5;28;01mif\u001b[39;00m status_code \u001b[38;5;241m==\u001b[39m HTTP_502_BAD_GATEWAY \u001b[38;5;129;01mand\u001b[39;00m \u001b[38;5;124m\"\u001b[39m\u001b[38;5;124mProxy Error\u001b[39m\u001b[38;5;124m\"\u001b[39m \u001b[38;5;129;01min\u001b[39;00m text:\n\u001b[1;32m    178\u001b[0m     error_message \u001b[38;5;241m=\u001b[39m (\n\u001b[1;32m    179\u001b[0m         \u001b[38;5;124m\"\u001b[39m\u001b[38;5;124mReceived 502 Proxy Error.\u001b[39m\u001b[38;5;124m\"\u001b[39m\n\u001b[1;32m    180\u001b[0m         \u001b[38;5;124m\"\u001b[39m\u001b[38;5;124m This typically happens when a synchronous openEO processing request takes too long and is aborted.\u001b[39m\u001b[38;5;124m\"\u001b[39m\n\u001b[1;32m    181\u001b[0m         \u001b[38;5;124m\"\u001b[39m\u001b[38;5;124m Consider using a batch job instead.\u001b[39m\u001b[38;5;124m\"\u001b[39m\n\u001b[1;32m    182\u001b[0m     )\n\u001b[0;32m--> 184\u001b[0m \u001b[38;5;28;01mraise\u001b[39;00m OpenEoApiPlainError(message\u001b[38;5;241m=\u001b[39mtext, http_status_code\u001b[38;5;241m=\u001b[39mstatus_code, error_message\u001b[38;5;241m=\u001b[39merror_message)\n",
      "\u001b[0;31mOpenEoApiPlainError\u001b[0m: [500] {\"code\":500,\"message\":\"Error: $ operator is invalid for atomic vectors\"}"
     ]
    }
   ],
   "source": [
    "# Load a data cube\n",
    "datacube = connection.load_collection(\n",
    "    collection_id=\"mpc-sentinel-2-l2a\",\n",
    "    spatial_extent={\"west\": -63.9, \"south\": -9.14, \"east\": -62.9, \"north\": -8.14},\n",
    "    temporal_extent=[\"2022-01-01\", \"2022-12-31\"]\n",
    ")"
   ]
  },
  {
   "cell_type": "code",
   "execution_count": null,
   "id": "db29bbdf",
   "metadata": {},
   "outputs": [],
   "source": [
    "datacube = datacube.process(\n",
    "    process_id=\"cube_regularize\",\n",
    "    arguments={\n",
    "        \"data\": datacube,\n",
    "        \"period\": \"P1M\",  # Monthly regularization\n",
    "        \"resolution\": 320\n",
    "    }\n",
    ")"
   ]
  },
  {
   "cell_type": "markdown",
   "id": "2f764640",
   "metadata": {},
   "source": [
    "## Load Training Data\n",
    "\n",
    "We'll load the pre-processed training data for deforestation in Rondonia.\n"
   ]
  },
  {
   "cell_type": "code",
   "execution_count": null,
   "id": "0f8f9138",
   "metadata": {},
   "outputs": [],
   "source": [
    "# Load the RDS file using rpy2\n",
    "readRDS = robjects.r['readRDS']\n",
    "data_deforestation_rondonia = readRDS(\"./monthly_rondonia_data.rds\")"
   ]
  },
  {
   "cell_type": "code",
   "execution_count": null,
   "id": "9bb8fdc1",
   "metadata": {},
   "outputs": [],
   "source": [
    "data_deforestation_rondonia"
   ]
  },
  {
   "cell_type": "code",
   "execution_count": null,
   "id": "a6fa50b9",
   "metadata": {},
   "outputs": [],
   "source": [
    "# Serialize the data using jsonlite::serializeJSON\n",
    "serializeJSON = robjects.r['serializeJSON']\n",
    "# Use the function\n",
    "serialized_data = serializeJSON(data_deforestation_rondonia)"
   ]
  },
  {
   "cell_type": "code",
   "execution_count": null,
   "id": "cc555722",
   "metadata": {},
   "outputs": [],
   "source": [
    "serialized_data"
   ]
  },
  {
   "cell_type": "markdown",
   "id": "c9c536f6",
   "metadata": {},
   "source": [
    "## Initialize and Train the Model\n",
    "\n",
    "Now we'll initialize the Temporal CNN model and train it with our data."
   ]
  },
  {
   "cell_type": "code",
   "execution_count": null,
   "id": "823e6ba9",
   "metadata": {},
   "outputs": [],
   "source": [
    "tempcnn_model_init = connection.mlm_class_tempcnn(\n",
    "    optimizer=\"adam\",\n",
    "    learning_rate=0.0005,\n",
    "    seed=42\n",
    ")"
   ]
  },
  {
   "cell_type": "code",
   "execution_count": null,
   "id": "91a5405a",
   "metadata": {},
   "outputs": [],
   "source": [
    "# Fit the model using the training dataset\n",
    "tempcnn_model = tempcnn_model_init.fit(\n",
    "    training_set=serialized_data,\n",
    "    target=\"label\"\n",
    ")"
   ]
  },
  {
   "cell_type": "markdown",
   "id": "58a86897",
   "metadata": {},
   "source": [
    "## Make Predictions\n",
    "\n",
    "Apply the trained model to make predictions on new data.\n"
   ]
  },
  {
   "cell_type": "code",
   "execution_count": null,
   "id": "7bfa9f13",
   "metadata": {},
   "outputs": [],
   "source": [
    "datacube =  tempcnn_model.predict(\n",
    "    data=datacube,\n",
    "    model=tempcnn_model\n",
    ")"
   ]
  },
  {
   "cell_type": "markdown",
   "id": "cebaa30c",
   "metadata": {},
   "source": [
    "## Save the Model\n",
    "\n",
    "Save the trained model for future use."
   ]
  },
  {
   "cell_type": "code",
   "execution_count": null,
   "id": "84c003a0",
   "metadata": {},
   "outputs": [],
   "source": [
    "tempcnn_model.save_ml_model(name =\"tempcnn_rondonia\",\n",
    "                            tasks=[\"classification\"]\n",
    "                            #options={}\n",
    "                            )"
   ]
  },
  {
   "cell_type": "markdown",
   "id": "d15b2d3c",
   "metadata": {},
   "source": [
    "## Save and Execute Results\n",
    "\n",
    "Finally, we'll save the prediction results and execute the job.\n"
   ]
  },
  {
   "cell_type": "code",
   "execution_count": null,
   "id": "d7c4de9a",
   "metadata": {},
   "outputs": [],
   "source": [
    "result = datacube.save_result(\n",
    "    format=\"GTiff\"\n",
    ")"
   ]
  },
  {
   "cell_type": "code",
   "execution_count": null,
   "id": "8ca118fb",
   "metadata": {},
   "outputs": [],
   "source": [
    "job = result.create_job(\n",
    "    title=\"Deforestation Prediction in Rondonia\",\n",
    "    description=\"Using TempCNN model to predict deforestation in Rondonia\"\n",
    ")\n",
    "job"
   ]
  },
  {
   "cell_type": "code",
   "execution_count": null,
   "id": "4a07e0f2",
   "metadata": {},
   "outputs": [],
   "source": [
    "job.start_and_wait()\n",
    "job.get_results().download_files(\"output\")"
   ]
  },
  {
   "cell_type": "markdown",
   "id": "4cb101ba",
   "metadata": {},
   "source": [
    "## Conclusion\n",
    "\n",
    "This example demonstrated how to:\n",
    "1. Connect to an OpenEO backend\n",
    "2. Load and prepare training data\n",
    "3. Define a Temporal CNN model architecture\n",
    "4. Train the model\n",
    "5. Make predictions on new data\n",
    "6. Save the results\n",
    "\n",
    "The trained model can now be used for making predictions on new time series data. "
   ]
  }
 ],
 "metadata": {
  "kernelspec": {
   "display_name": "Python 3",
   "language": "python",
   "name": "python3"
  },
  "language_info": {
   "codemirror_mode": {
    "name": "ipython",
    "version": 3
   },
   "file_extension": ".py",
   "mimetype": "text/x-python",
   "name": "python",
   "nbconvert_exporter": "python",
   "pygments_lexer": "ipython3",
   "version": "3.9.6"
  }
 },
 "nbformat": 4,
 "nbformat_minor": 5
}
